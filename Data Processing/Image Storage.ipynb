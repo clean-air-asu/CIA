{
 "cells": [
  {
   "cell_type": "code",
   "execution_count": 7,
   "id": "8ce954db",
   "metadata": {},
   "outputs": [],
   "source": [
    "from PIL import Image\n",
    "from pptx import Presentation\n",
    "from pptx.util import Inches\n",
    "import os"
   ]
  },
  {
   "cell_type": "code",
   "execution_count": 10,
   "id": "433a8016",
   "metadata": {},
   "outputs": [],
   "source": [
    "# Specify the path to the folder you want to scan for subfolders\n",
    "folder_path = 'Exponential'\n",
    "\n",
    "# # Get a list of all subfolders within the specified folder\n",
    "# subfolders = [f for f in os.listdir(folder_path) if os.path.isdir(os.path.join(folder_path, f))]\n",
    "prs = Presentation()\n",
    "# Print the names of the subfolders\n",
    " \n",
    "image_files = [f for f in os.listdir(folder_path) if f.lower().endswith(('.png', '.jpg', '.jpeg', '.gif'))]\n",
    "for image_file in image_files:\n",
    "        image_path = os.path.join(folder_path, image_file)\n",
    "        img = Image.open(image_path)\n",
    "\n",
    "        slide = prs.slides.add_slide(prs.slide_layouts[5])  # Blank slide layout\n",
    "        left = Inches(1)  # Adjust the position as needed\n",
    "        top = Inches(1)\n",
    "        height = Inches(5)  # Adjust the size as needed\n",
    "        pic = slide.shapes.add_picture(image_path, left, top, height=height)\n",
    "pptx_output_path = 'Exponential.pptx'\n",
    "prs.save(pptx_output_path)\n"
   ]
  },
  {
   "cell_type": "code",
   "execution_count": null,
   "id": "0fb7ea57",
   "metadata": {},
   "outputs": [],
   "source": []
  }
 ],
 "metadata": {
  "kernelspec": {
   "display_name": "Python 3 (ipykernel)",
   "language": "python",
   "name": "python3"
  },
  "language_info": {
   "codemirror_mode": {
    "name": "ipython",
    "version": 3
   },
   "file_extension": ".py",
   "mimetype": "text/x-python",
   "name": "python",
   "nbconvert_exporter": "python",
   "pygments_lexer": "ipython3",
   "version": "3.9.13"
  }
 },
 "nbformat": 4,
 "nbformat_minor": 5
}
